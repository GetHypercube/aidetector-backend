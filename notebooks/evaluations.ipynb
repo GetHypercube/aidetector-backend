{
 "cells": [
  {
   "cell_type": "code",
   "execution_count": 12,
   "metadata": {},
   "outputs": [
    {
     "name": "stdout",
     "output_type": "stream",
     "text": [
      "[]\n",
      "Individual Accuracies per Model and Dataset:\n"
     ]
    },
    {
     "data": {
      "text/html": [
       "<div>\n",
       "<style scoped>\n",
       "    .dataframe tbody tr th:only-of-type {\n",
       "        vertical-align: middle;\n",
       "    }\n",
       "\n",
       "    .dataframe tbody tr th {\n",
       "        vertical-align: top;\n",
       "    }\n",
       "\n",
       "    .dataframe thead th {\n",
       "        text-align: right;\n",
       "    }\n",
       "</style>\n",
       "<table border=\"1\" class=\"dataframe\">\n",
       "  <thead>\n",
       "    <tr style=\"text-align: right;\">\n",
       "      <th></th>\n",
       "      <th>Model</th>\n",
       "      <th>Dataset</th>\n",
       "      <th>Accuracy</th>\n",
       "    </tr>\n",
       "  </thead>\n",
       "  <tbody>\n",
       "  </tbody>\n",
       "</table>\n",
       "</div>"
      ],
      "text/plain": [
       "Empty DataFrame\n",
       "Columns: [Model, Dataset, Accuracy]\n",
       "Index: []"
      ]
     },
     "metadata": {},
     "output_type": "display_data"
    },
    {
     "name": "stdout",
     "output_type": "stream",
     "text": [
      "\n",
      "Aggregated Accuracy across Models:\n"
     ]
    },
    {
     "data": {
      "text/html": [
       "<div>\n",
       "<style scoped>\n",
       "    .dataframe tbody tr th:only-of-type {\n",
       "        vertical-align: middle;\n",
       "    }\n",
       "\n",
       "    .dataframe tbody tr th {\n",
       "        vertical-align: top;\n",
       "    }\n",
       "\n",
       "    .dataframe thead th {\n",
       "        text-align: right;\n",
       "    }\n",
       "</style>\n",
       "<table border=\"1\" class=\"dataframe\">\n",
       "  <thead>\n",
       "    <tr style=\"text-align: right;\">\n",
       "      <th></th>\n",
       "      <th>Model</th>\n",
       "      <th>Accuracy</th>\n",
       "    </tr>\n",
       "  </thead>\n",
       "  <tbody>\n",
       "  </tbody>\n",
       "</table>\n",
       "</div>"
      ],
      "text/plain": [
       "Empty DataFrame\n",
       "Columns: [Model, Accuracy]\n",
       "Index: []"
      ]
     },
     "metadata": {},
     "output_type": "display_data"
    },
    {
     "name": "stderr",
     "output_type": "stream",
     "text": [
      "No artists with labels found to put in legend.  Note that artists whose label start with an underscore are ignored when legend() is called with no argument.\n"
     ]
    },
    {
     "data": {
      "image/png": "[encoded data removed]",
      "text/plain": [
       "<Figure size 1200x600 with 1 Axes>"
      ]
     },
     "metadata": {},
     "output_type": "display_data"
    }
   ],
   "source": [
    "import os\n",
    "import glob\n",
    "import pandas as pd\n",
    "import numpy as np\n",
    "import matplotlib.pyplot as plt\n",
    "import seaborn as sns\n",
    "from sklearn.metrics import accuracy_score\n",
    "from pathlib import Path\n",
    "\n",
    "# Specify the folder containing the CSV files\n",
    "folder_path = \"..\\csv\\\\\"  # Replace with your actual folder path\n",
    "# Define the threshold for considering an image as synthetic\n",
    "probability_threshold = 0.2\n",
    "\n",
    "def logits_to_probabilities(logits):\n",
    "    return 1 / (1 + np.exp(-logits))\n",
    "\n",
    "def calculate_model_accuracy(df, threshold):\n",
    "    accuracies = {}\n",
    "    for model_name, column in model_columns.items():\n",
    "        pred_column = f'{model_name}_pred'\n",
    "        prob_column = f'{model_name}_prob' if 'exif' not in model_name else column\n",
    "        df[pred_column] = df[prob_column] > threshold\n",
    "        accuracies[model_name] = accuracy_score(df['true_label'], df[pred_column])\n",
    "\n",
    "    # Aggregate results\n",
    "    prediction_columns = [f'{model}_pred' for model in model_columns.keys()]\n",
    "    df['final_pred'] = df[prediction_columns].any(axis=1)\n",
    "    accuracies['aggregate'] = accuracy_score(df['true_label'], df['final_pred'])\n",
    "\n",
    "    return accuracies\n",
    "\n",
    "# Construct the pattern to match all CSV files in the folder\n",
    "pattern = os.path.join(folder_path, '*.csv')\n",
    "print(pattern)\n",
    "\n",
    "# Use glob to find all files matching the pattern\n",
    "csv_files = glob.glob(pattern)\n",
    "print(csv_files)\n",
    "\n",
    "# List of CSV files for each dataset\n",
    "accuracy_across_datasets = {model: [] for model in ['logits_Grag2021_progan', 'logits_Grag2021_latent', 'resnet50nodown_progan', 'resnet50nodown_stylegan2', 'exif_model', 'aggregate']}\n",
    "\n",
    "# Loop through each CSV file\n",
    "for csv_file_name in csv_files:\n",
    "    input = Path(\"..\", \"csv\", csv_file_name)  # Adjust the path as necessary\n",
    "\n",
    "    # Load the data from the CSV file\n",
    "    df = pd.read_csv(input)\n",
    "\n",
    "    # Applying sigmoid function to convert logits to probabilities\n",
    "    model_columns = {\n",
    "        'logits_Grag2021_progan': 'dMDetectorResultsinferenceResults_logits_Grag2021_progan',\n",
    "        'logits_Grag2021_latent': 'dMDetectorResultsinferenceResults_logits_Grag2021_latent',\n",
    "        'resnet50nodown_progan': 'gANDetectorResultsinferenceResults_logits_gandetection_resnet50nodown_progan',\n",
    "        'resnet50nodown_stylegan2': 'gANDetectorResultsinferenceResults_logits_gandetection_resnet50nodown_stylegan2',\n",
    "        'exif_model': 'exifDetectorResultsinferenceResults_isSyntheticImage'\n",
    "    }\n",
    "\n",
    "    for model_name, column in model_columns.items():\n",
    "        if 'exif' not in model_name:  # Exif model doesn't need conversion\n",
    "            df[f'{model_name}_prob'] = logits_to_probabilities(df[column])\n",
    "\n",
    "    # Calculate model accuracy\n",
    "    model_accuracies = calculate_model_accuracy(df, probability_threshold)\n",
    "\n",
    "    # Store accuracies for each model across datasets\n",
    "    for model, acc in model_accuracies.items():\n",
    "        accuracy_across_datasets[model].append(acc)\n",
    "\n",
    "    print(f\"Processed data for {csv_file_name}!\")\n",
    "\n",
    "# Creating a DataFrame for accuracies across datasets\n",
    "accuracy_across_df = pd.DataFrame.from_dict(accuracy_across_datasets, orient='index', columns=csv_files)\n",
    "accuracy_across_df = accuracy_across_df.reset_index().melt(id_vars='index', var_name='Dataset', value_name='Accuracy')\n",
    "accuracy_across_df.rename(columns={'index': 'Model'}, inplace=True)\n",
    "\n",
    "# Print a readable table for individual accuracy\n",
    "print(\"Individual Accuracies per Model and Dataset:\")\n",
    "display(accuracy_across_df)\n",
    "\n",
    "# Calculate and print the aggregated accuracy across models\n",
    "aggregated_accuracy_df = accuracy_across_df.groupby('Model')['Accuracy'].mean().reset_index()\n",
    "print(\"\\nAggregated Accuracy across Models:\")\n",
    "display(aggregated_accuracy_df)\n",
    "\n",
    "# Plotting Accuracy Across Datasets\n",
    "plt.figure(figsize=(12, 6))\n",
    "sns.barplot(x='Dataset', y='Accuracy', hue='Model', data=accuracy_across_df)\n",
    "plt.title('Accuracy of Detectors Across Datasets')\n",
    "plt.xlabel('Dataset')\n",
    "plt.ylabel('Accuracy')\n",
    "plt.ylim(0, 1)\n",
    "plt.legend(title='Model', bbox_to_anchor=(1.05, 1), loc='upper left')\n",
    "plt.tight_layout()\n",
    "plt.show()\n"
   ]
  }
 ],
 "metadata": {
  "kernelspec": {
   "display_name": ".env",
   "language": "python",
   "name": "python3"
  },
  "language_info": {
   "codemirror_mode": {
    "name": "ipython",
    "version": 3
   },
   "file_extension": ".py",
   "mimetype": "text/x-python",
   "name": "python",
   "nbconvert_exporter": "python",
   "pygments_lexer": "ipython3",
   "version": "3.11.6"
  }
 },
 "nbformat": 4,
 "nbformat_minor": 2
}
