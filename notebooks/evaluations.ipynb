{
 "cells": [
  {
   "cell_type": "code",
   "execution_count": null,
   "metadata": {},
   "outputs": [],
   "source": [
    "import pandas as pd\n",
    "import numpy as np\n",
    "import matplotlib.pyplot as plt\n",
    "import seaborn as sns\n",
    "from sklearn.metrics import accuracy_score, roc_auc_score\n",
    "from pathlib import Path\n",
    "\n",
    "# Basic configuration\n",
    "\n",
    "# Replace with name of your CSV file\n",
    "csv_file_name = 'results.csv'\n",
    "# Define the threshold for considering an image as synthetic\n",
    "probability_threshold = 0.2"
   ]
  },
  {
   "cell_type": "code",
   "execution_count": null,
   "metadata": {},
   "outputs": [],
   "source": [
    "csv_dir = Path(\"..\", \"csv\")\n",
    "input = csv_dir.joinpath(csv_file_name)\n",
    "\n",
    "# Function to convert logits to probabilities using sigmoid\n",
    "def logits_to_probabilities(logits):\n",
    "    return 1 / (1 + np.exp(-logits))\n",
    "\n",
    "# Load the data from the CSV file\n",
    "df = pd.read_csv(input)\n",
    "\n",
    "# Applying sigmoid function to convert logits to probabilities\n",
    "model_columns = {\n",
    "    'logits_Grag2021_progan': 'dMDetectorResultsinferenceResults_logits_Grag2021_progan',\n",
    "    'logits_Grag2021_latent': 'dMDetectorResultsinferenceResults_logits_Grag2021_latent',\n",
    "    'resnet50nodown_progan': 'gANDetectorResultsinferenceResults_logits_gandetection_resnet50nodown_progan',\n",
    "    'resnet50nodown_stylegan2': 'gANDetectorResultsinferenceResults_logits_gandetection_resnet50nodown_stylegan2',\n",
    "    'exif_model': 'exifDetectorResultsinferenceResults_isSyntheticImage'\n",
    "}\n",
    "\n",
    "for model_name, column in model_columns.items():\n",
    "    if 'exif' not in model_name:  # Exif model doesn't need conversion\n",
    "        df[f'{model_name}_prob'] = logits_to_probabilities(df[column])\n",
    "\n",
    "def calculate_model_performance(df, threshold):\n",
    "    performances = []\n",
    "    for model_name, column in model_columns.items():\n",
    "        pred_column = f'{model_name}_pred'\n",
    "        prob_column = f'{model_name}_prob' if 'exif' not in model_name else column\n",
    "        df[pred_column] = df[prob_column] > threshold\n",
    "        accuracy = accuracy_score(df['true_label'], df[pred_column])\n",
    "        auc_roc = roc_auc_score(df['true_label'], df[prob_column]) if 'exif' not in model_name else np.nan\n",
    "        performances.append({'Model': model_name, 'Accuracy': accuracy, 'ROC AUC': auc_roc})\n",
    "\n",
    "    # Aggregate results\n",
    "    prediction_columns = [f'{model}_pred' for model in model_columns.keys()]\n",
    "    df['final_pred'] = df[prediction_columns].any(axis=1)\n",
    "    aggregate_accuracy = accuracy_score(df['true_label'], df['final_pred'])\n",
    "    aggregate_auc_roc = roc_auc_score(df['true_label'], df[prediction_columns].max(axis=1))\n",
    "    performances.append({'Model': 'aggregate', 'Accuracy': aggregate_accuracy, 'ROC AUC': aggregate_auc_roc})\n",
    "\n",
    "    return pd.DataFrame(performances)\n",
    "\n",
    "# Calculate model performance\n",
    "performances_df = calculate_model_performance(df, probability_threshold)\n",
    "print(\"Data loaded successfully!\")"
   ]
  },
  {
   "cell_type": "code",
   "execution_count": null,
   "metadata": {},
   "outputs": [],
   "source": [
    "# Print performance as a table\n",
    "display(performances_df)"
   ]
  },
  {
   "cell_type": "code",
   "execution_count": null,
   "metadata": {},
   "outputs": [],
   "source": [
    "# Setting the plot size\n",
    "plt.figure(figsize=(12, 6))\n",
    "\n",
    "# Plotting Accuracy\n",
    "plt.subplot(1, 2, 1)  # 1 row, 2 columns, first plot\n",
    "sns.barplot(x='Accuracy', y='Model', hue='Model', data=performances_df, palette=\"viridis\", legend=False)\n",
    "plt.title('Model Accuracies')\n",
    "plt.xlabel('Accuracy')\n",
    "plt.ylabel('Model')\n",
    "plt.xlim(0, 1)  # Accuracies range from 0 to 1\n",
    "\n",
    "# Plotting ROC AUC\n",
    "plt.subplot(1, 2, 2)  # 1 row, 2 columns, second plot\n",
    "sns.barplot(x='ROC AUC', y='Model', hue='Model', data=performances_df, palette=\"magma\", legend=False)\n",
    "plt.title('Model ROC AUC')\n",
    "plt.xlabel('ROC AUC')\n",
    "plt.ylabel('Model')\n",
    "plt.xlim(0, 1)  # ROC AUC ranges from 0 to 1\n",
    "\n",
    "# Adjust layout\n",
    "plt.tight_layout()\n",
    "plt.show()"
   ]
  },
  {
   "cell_type": "code",
   "execution_count": null,
   "metadata": {},
   "outputs": [],
   "source": [
    "# Plotting a histogram of the probabilities for each model to visualize the distribution\n",
    "fig, axes = plt.subplots(2, 2, figsize=(12, 8))\n",
    "fig.suptitle('Probability Distributions per Model')\n",
    "\n",
    "models = ['dMDetector_progan_prob', 'dMDetector_latent_prob', 'gANDetector_progan_prob', 'gANDetector_stylegan2_prob']\n",
    "for i, model in enumerate(models):\n",
    "    ax = axes[i//2, i%2]\n",
    "    # Ensure the model column exists and contains valid numerical data\n",
    "    if model in df.columns and pd.api.types.is_numeric_dtype(df[model]):\n",
    "        sns.histplot(df[model], bins=30, ax=ax, kde=True)\n",
    "        ax.set_title(model)\n",
    "        ax.set_xlim(0, 1)  # Probabilities range from 0 to 1\n",
    "    else:\n",
    "        ax.set_title(f\"{model} - data not available\")\n",
    "\n",
    "plt.tight_layout(rect=[0, 0.03, 1, 0.95])\n",
    "plt.show()"
   ]
  }
 ],
 "metadata": {
  "kernelspec": {
   "display_name": ".env",
   "language": "python",
   "name": "python3"
  },
  "language_info": {
   "codemirror_mode": {
    "name": "ipython",
    "version": 3
   },
   "file_extension": ".py",
   "mimetype": "text/x-python",
   "name": "python",
   "nbconvert_exporter": "python",
   "pygments_lexer": "ipython3",
   "version": "3.11.6"
  }
 },
 "nbformat": 4,
 "nbformat_minor": 2
}
