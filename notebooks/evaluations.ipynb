{
 "cells": [
  {
   "cell_type": "code",
   "execution_count": null,
   "metadata": {},
   "outputs": [],
   "source": [
    "import pandas as pd\n",
    "from sklearn.metrics import accuracy_score\n",
    "import numpy as np\n",
    "\n",
    "# Replace with the actual path to your CSV file\n",
    "csv_file_path = 'path_to_your_csv.csv'\n",
    "\n",
    "# Load the data from the CSV file\n",
    "df = pd.read_csv(csv_file_path)\n",
    "\n",
    "# Function to convert logits to probabilities using sigmoid\n",
    "def logits_to_probabilities(logits):\n",
    "    return 1 / (1 + np.exp(-logits))\n",
    "\n",
    "# Applying sigmoid function to convert logits to probabilities\n",
    "df['dMDetector_progan_prob'] = logits_to_probabilities(df['dMDetectorResultsinferenceResults_logits_Grag2021_progan'])\n",
    "df['dMDetector_latent_prob'] = logits_to_probabilities(df['dMDetectorResultsinferenceResults_logits_Grag2021_latent'])\n",
    "df['gANDetector_progan_prob'] = logits_to_probabilities(df['gANDetectorResultsinferenceResults_logits_gandetection_resnet50nodown_progan'])\n",
    "df['gANDetector_stylegan2_prob'] = logits_to_probabilities(df['gANDetectorResultsinferenceResults_logits_gandetection_resnet50nodown_stylegan2'])\n",
    "\n",
    "# Define the threshold for considering an image as synthetic\n",
    "probability_threshold = 0.2\n",
    "\n",
    "# Function to calculate the accuracy of each model based on the threshold\n",
    "def calculate_accuracy_with_threshold(df, threshold):\n",
    "    accuracies = {}\n",
    "    for model in ['dMDetector_progan_prob', 'dMDetector_latent_prob', 'gANDetector_progan_prob', 'gANDetector_stylegan2_prob', 'exifDetectorResultsinferenceResults_isSyntheticImage']:\n",
    "        df[f'{model}_pred'] = df[model] > threshold\n",
    "        accuracies[f'{model}_accuracy'] = accuracy_score(df['true_label'], df[f'{model}_pred'])\n",
    "\n",
    "    # Aggregate results: if any model predicts synthetic, consider the final prediction as synthetic\n",
    "    prediction_columns = [f'{model}_pred' for model in ['dMDetector_progan_prob', 'dMDetector_latent_prob', 'gANDetector_progan_prob', 'gANDetector_stylegan2_prob', 'exifDetectorResultsinferenceResults_isSyntheticImage']]\n",
    "    df['final_pred'] = df[prediction_columns].any(axis=1)\n",
    "    accuracies['aggregate_accuracy'] = accuracy_score(df['true_label'], df['final_pred'])\n",
    "\n",
    "    return accuracies\n",
    "\n",
    "# Calculate accuracy\n",
    "accuracies = calculate_accuracy_with_threshold(df, probability_threshold)\n",
    "print(accuracies)\n"
   ]
  }
 ],
 "metadata": {
  "language_info": {
   "name": "python"
  }
 },
 "nbformat": 4,
 "nbformat_minor": 2
}
