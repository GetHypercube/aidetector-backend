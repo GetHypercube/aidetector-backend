{
 "cells": [
  {
   "cell_type": "code",
   "execution_count": null,
   "metadata": {},
   "outputs": [],
   "source": [
    "import pandas as pd\n",
    "import numpy as np\n",
    "import matplotlib.pyplot as plt\n",
    "from sklearn.metrics import accuracy_score, precision_score, recall_score, f1_score, confusion_matrix\n",
    "import seaborn as sns\n",
    "\n",
    "# Load the data\n",
    "model_results_df = pd.read_csv('path/to/model_results.csv')\n",
    "true_labels_df = pd.read_csv('path/to/true_labels.csv')\n",
    "\n",
    "# Merge datasets on the filepath\n",
    "merged_df = pd.merge(model_results_df, true_labels_df, on='Filepath')\n",
    "\n",
    "# Convert columns to appropriate types if necessary\n",
    "# For example, if your true labels are in a column 'TrueLabel'\n",
    "merged_df['TrueLabel'] = merged_df['TrueLabel'].astype('category')\n",
    "\n",
    "# Define a function to calculate metrics\n",
    "def calculate_metrics(y_true, y_pred):\n",
    "    accuracy = accuracy_score(y_true, y_pred)\n",
    "    precision = precision_score(y_true, y_pred, average='weighted')\n",
    "    recall = recall_score(y_true, y_pred, average='weighted')\n",
    "    f1 = f1_score(y_true, y_pred, average='weighted')\n",
    "    return accuracy, precision, recall, f1\n",
    "\n",
    "# Calculate metrics for each model\n",
    "metrics = {}\n",
    "for model in ['DMDetectorResults', 'GANDetectorResults', 'ExifDetectorResults']:\n",
    "    y_true = merged_df['TrueLabel']\n",
    "    y_pred = merged_df[model + 'InferenceResultsIs_diffusion_imag'] # Adjust based on your column names\n",
    "    metrics[model] = calculate_metrics(y_true, y_pred)\n",
    "\n",
    "# Convert the metrics dictionary to a DataFrame for easy viewing\n",
    "metrics_df = pd.DataFrame(metrics, index=['Accuracy', 'Precision', 'Recall', 'F1 Score'])\n",
    "\n",
    "# Display the metrics\n",
    "print(metrics_df)\n",
    "\n",
    "# Visualizing the performance\n",
    "plt.figure(figsize=(10, 6))\n",
    "sns.barplot(data=metrics_df.T)\n",
    "plt.title('Model Performance Comparison')\n",
    "plt.ylabel('Score')\n",
    "plt.show()\n"
   ]
  }
 ],
 "metadata": {
  "language_info": {
   "name": "python"
  }
 },
 "nbformat": 4,
 "nbformat_minor": 2
}
